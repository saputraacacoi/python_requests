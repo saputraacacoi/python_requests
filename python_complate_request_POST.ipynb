{
 "cells": [
  {
   "cell_type": "code",
   "execution_count": 1,
   "metadata": {},
   "outputs": [],
   "source": [
    "from requests_html import HTMLSession\n",
    "import requests\n",
    "\n",
    "from htmldom import htmldom\n",
    "dom = htmldom.HtmlDom()"
   ]
  },
  {
   "cell_type": "code",
   "execution_count": 2,
   "metadata": {},
   "outputs": [],
   "source": [
    "session = HTMLSession()\n",
    "r = session.get('http://localhost:8000/admin')"
   ]
  },
  {
   "cell_type": "code",
   "execution_count": 3,
   "metadata": {},
   "outputs": [],
   "source": [
    "inputz = r.html.find('input')\n",
    "prop_key = 'name'\n",
    "prop_value = 'csrfmiddlewaretoken'\n",
    "\n",
    "\n",
    "def get_attr(inputz, prop_key, prop_value):\n",
    "    out = {}\n",
    "    for inz in inputz:\n",
    "        if prop_key in inz.attrs:\n",
    "            if inz.attrs[prop_key] == prop_value:\n",
    "                out = inz.attrs\n",
    "                \n",
    "    return out\n",
    "\n",
    "attr = get_attr(inputz, prop_key, prop_value)\n",
    "val = attr['value']"
   ]
  },
  {
   "cell_type": "code",
   "execution_count": 3,
   "metadata": {},
   "outputs": [],
   "source": []
  },
  {
   "cell_type": "code",
   "execution_count": 20,
   "metadata": {},
   "outputs": [
    {
     "name": "stdout",
     "output_type": "stream",
     "text": [
      "L9Dk0DuRR9fduc9NH4oKMpVwqFaGbCpriKY8NgBuvRhPu2nT9yIaYvm30Btfxg3H\n"
     ]
    }
   ],
   "source": [
    "import requests\n",
    "client = requests.session()\n",
    "\n",
    "# Retrieve the CSRF token first\n",
    "URL = 'http://localhost:8000/admin/'\n",
    "client.get(URL) # sets cookie\n",
    "csrftoken = client.cookies['csrftoken']\n",
    "print (csrftoken) #Check if it's getting printed. Sometimes key name could be 'csrf' only\n",
    "\n",
    "form = {\n",
    "    \n",
    "    'csrfmiddlewaretoken': csrftoken, \n",
    "    'username': 'saputra', \n",
    "    'password':'saputra123'\n",
    "}\n",
    "\n",
    "URLPOST = 'http://localhost:8000/admin/?next=/admin/'\n",
    "r = client.post(URLPOST, data=form, headers=dict(Referer=URL))"
   ]
  },
  {
   "cell_type": "code",
   "execution_count": 13,
   "metadata": {},
   "outputs": [],
   "source": []
  },
  {
   "cell_type": "code",
   "execution_count": 21,
   "metadata": {},
   "outputs": [
    {
     "data": {
      "text/plain": [
       "'<!DOCTYPE html>\\n\\n<html lang=\"en-us\" >\\n<head>\\n<title>Log in | Django site admin</title>\\n<link rel=\"stylesheet\" type=\"text/css\" href=\"/static/admin/css/base.css\" />\\n<link rel=\"stylesheet\" type=\"text/css\" href=\"/static/admin/css/login.css\" />\\n\\n\\n\\n\\n\\n    <meta name=\"viewport\" content=\"user-scalable=no, width=device-width, initial-scale=1.0, maximum-scale=1.0\">\\n    <link rel=\"stylesheet\" type=\"text/css\" href=\"/static/admin/css/responsive.css\" />\\n    \\n\\n<meta name=\"robots\" content=\"NONE,NOARCHIVE\" />\\n</head>\\n\\n\\n<body class=\" login\"\\n  data-admin-utc-offset=\"0\">\\n\\n<!-- Container -->\\n<div id=\"container\">\\n\\n    \\n    <!-- Header -->\\n    <div id=\"header\">\\n        <div id=\"branding\">\\n        \\n<h1 id=\"site-name\"><a href=\"/admin/\">Django administration</a></h1>\\n\\n        </div>\\n        \\n        \\n    </div>\\n    <!-- END Header -->\\n    \\n    \\n\\n    \\n        \\n    \\n\\n    <!-- Content -->\\n    <div id=\"content\" class=\"colM\">\\n        \\n        \\n        \\n\\n\\n\\n\\n<div id=\"content-main\">\\n\\n\\n\\n<form action=\"/admin/login/?next=/admin/%3Fnext%3D/admin/\" method=\"post\" id=\"login-form\"><input type=\\'hidden\\' name=\\'csrfmiddlewaretoken\\' value=\\'jxCTygaivw1CDeG3kjR3z3J0ngXPjmHrQ8XHlThV9e3eD4U9MNbtL9axXcgoF0lH\\' />\\n  <div class=\"form-row\">\\n    \\n    <label class=\"required\" for=\"id_username\">Username:</label> <input type=\"text\" name=\"username\" autofocus maxlength=\"254\" required id=\"id_username\" />\\n  </div>\\n  <div class=\"form-row\">\\n    \\n    <label class=\"required\" for=\"id_password\">Password:</label> <input type=\"password\" name=\"password\" required id=\"id_password\" />\\n    <input type=\"hidden\" name=\"next\" value=\"/admin/?next=/admin/\" />\\n  </div>\\n  \\n  \\n  <div class=\"submit-row\">\\n    <label>&nbsp;</label><input type=\"submit\" value=\"Log in\" />\\n  </div>\\n</form>\\n\\n</div>\\n\\n        \\n        <br class=\"clear\" />\\n    </div>\\n    <!-- END Content -->\\n\\n    <div id=\"footer\"></div>\\n</div>\\n<!-- END Container -->\\n\\n</body>\\n</html>\\n'"
      ]
     },
     "execution_count": 21,
     "metadata": {},
     "output_type": "execute_result"
    }
   ],
   "source": [
    "r.text"
   ]
  },
  {
   "cell_type": "code",
   "execution_count": null,
   "metadata": {},
   "outputs": [],
   "source": []
  },
  {
   "cell_type": "code",
   "execution_count": null,
   "metadata": {},
   "outputs": [],
   "source": []
  },
  {
   "cell_type": "code",
   "execution_count": null,
   "metadata": {},
   "outputs": [],
   "source": []
  },
  {
   "cell_type": "code",
   "execution_count": null,
   "metadata": {},
   "outputs": [],
   "source": []
  },
  {
   "cell_type": "code",
   "execution_count": null,
   "metadata": {},
   "outputs": [],
   "source": []
  }
 ],
 "metadata": {
  "kernelspec": {
   "display_name": "Python 3",
   "language": "python",
   "name": "python3"
  },
  "language_info": {
   "codemirror_mode": {
    "name": "ipython",
    "version": 3
   },
   "file_extension": ".py",
   "mimetype": "text/x-python",
   "name": "python",
   "nbconvert_exporter": "python",
   "pygments_lexer": "ipython3",
   "version": "3.6.5"
  }
 },
 "nbformat": 4,
 "nbformat_minor": 2
}
