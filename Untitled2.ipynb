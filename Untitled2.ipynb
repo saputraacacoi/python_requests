{
 "cells": [
  {
   "cell_type": "code",
   "execution_count": 20,
   "metadata": {},
   "outputs": [],
   "source": [
    "from requests_html import HTMLSession\n",
    "import requests\n",
    "\n",
    "from htmldom import htmldom\n",
    "dom = htmldom.HtmlDom()"
   ]
  },
  {
   "cell_type": "code",
   "execution_count": 21,
   "metadata": {},
   "outputs": [],
   "source": [
    "session = HTMLSession()\n",
    "r = session.get('http://localhost:8000/admin')"
   ]
  },
  {
   "cell_type": "code",
   "execution_count": 22,
   "metadata": {},
   "outputs": [
    {
     "data": {
      "text/plain": [
       "b'<!DOCTYPE html>\\n\\n<html lang=\"en-us\" >\\n<head>\\n<title>Log in | Django site admin</title>\\n<link rel=\"stylesheet\" type=\"text/css\" href=\"/static/admin/css/base.css\" />\\n<link rel=\"stylesheet\" type=\"text/css\" href=\"/static/admin/css/login.css\" />\\n\\n\\n\\n\\n\\n    <meta name=\"viewport\" content=\"user-scalable=no, width=device-width, initial-scale=1.0, maximum-scale=1.0\">\\n    <link rel=\"stylesheet\" type=\"text/css\" href=\"/static/admin/css/responsive.css\" />\\n    \\n\\n<meta name=\"robots\" content=\"NONE,NOARCHIVE\" />\\n</head>\\n\\n\\n<body class=\" login\"\\n  data-admin-utc-offset=\"0\">\\n\\n<!-- Container -->\\n<div id=\"container\">\\n\\n    \\n    <!-- Header -->\\n    <div id=\"header\">\\n        <div id=\"branding\">\\n        \\n<h1 id=\"site-name\"><a href=\"/admin/\">Django administration</a></h1>\\n\\n        </div>\\n        \\n        \\n    </div>\\n    <!-- END Header -->\\n    \\n    \\n\\n    \\n        \\n    \\n\\n    <!-- Content -->\\n    <div id=\"content\" class=\"colM\">\\n        \\n        \\n        \\n\\n\\n\\n\\n<div id=\"content-main\">\\n\\n\\n\\n<form action=\"/admin/login/?next=/admin/\" method=\"post\" id=\"login-form\"><input type=\\'hidden\\' name=\\'csrfmiddlewaretoken\\' value=\\'NvlQdZQ0ge6pZ3GilXEt5rki6BNcLo5NYWCzhDMoeyhd9TZzNjdnIWuS0b3Nfip7\\' />\\n  <div class=\"form-row\">\\n    \\n    <label class=\"required\" for=\"id_username\">Username:</label> <input type=\"text\" name=\"username\" autofocus maxlength=\"254\" required id=\"id_username\" />\\n  </div>\\n  <div class=\"form-row\">\\n    \\n    <label class=\"required\" for=\"id_password\">Password:</label> <input type=\"password\" name=\"password\" required id=\"id_password\" />\\n    <input type=\"hidden\" name=\"next\" value=\"/admin/\" />\\n  </div>\\n  \\n  \\n  <div class=\"submit-row\">\\n    <label>&nbsp;</label><input type=\"submit\" value=\"Log in\" />\\n  </div>\\n</form>\\n\\n</div>\\n\\n        \\n        <br class=\"clear\" />\\n    </div>\\n    <!-- END Content -->\\n\\n    <div id=\"footer\"></div>\\n</div>\\n<!-- END Container -->\\n\\n</body>\\n</html>\\n'"
      ]
     },
     "execution_count": 22,
     "metadata": {},
     "output_type": "execute_result"
    }
   ],
   "source": [
    "r.content"
   ]
  },
  {
   "cell_type": "code",
   "execution_count": 23,
   "metadata": {},
   "outputs": [],
   "source": [
    "session = HTMLSession()\n",
    "r = session.post('http://localhost:8000/admin/?next=/admin/')"
   ]
  },
  {
   "cell_type": "raw",
   "metadata": {},
   "source": [
    " r = requests.body('http://localhost:8000/admin/?next=/admin/')"
   ]
  },
  {
   "cell_type": "code",
   "execution_count": 6,
   "metadata": {},
   "outputs": [],
   "source": [
    "payload = {'csrfmiddlewaretoken': '5wOzFzKbqZabw9vgZewiKNI4Pcp4oOU4VM42w0wQqQYshQXcDilBDcKx9V5sMEwj', 'username': 'saputra', 'password':'saputra123'}"
   ]
  },
  {
   "cell_type": "code",
   "execution_count": 34,
   "metadata": {},
   "outputs": [],
   "source": [
    "a = [1,2,3,4,5]"
   ]
  },
  {
   "cell_type": "code",
   "execution_count": 38,
   "metadata": {},
   "outputs": [
    {
     "name": "stdout",
     "output_type": "stream",
     "text": [
      "[1, 2, 3, 4, 5]\n"
     ]
    }
   ],
   "source": [
    "print(a)"
   ]
  },
  {
   "cell_type": "code",
   "execution_count": null,
   "metadata": {},
   "outputs": [],
   "source": []
  },
  {
   "cell_type": "code",
   "execution_count": null,
   "metadata": {},
   "outputs": [],
   "source": []
  }
 ],
 "metadata": {
  "kernelspec": {
   "display_name": "Python 3",
   "language": "python",
   "name": "python3"
  },
  "language_info": {
   "codemirror_mode": {
    "name": "ipython",
    "version": 3
   },
   "file_extension": ".py",
   "mimetype": "text/x-python",
   "name": "python",
   "nbconvert_exporter": "python",
   "pygments_lexer": "ipython3",
   "version": "3.6.5"
  }
 },
 "nbformat": 4,
 "nbformat_minor": 2
}
