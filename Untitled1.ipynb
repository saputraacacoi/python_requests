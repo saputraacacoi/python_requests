{
 "cells": [
  {
   "cell_type": "code",
   "execution_count": 89,
   "metadata": {},
   "outputs": [],
   "source": [
    "from requests_html import HTMLSession\n",
    "session = HTMLSession()\n",
    "import requests\n",
    "\n",
    "from htmldom import htmldom\n",
    "dom = htmldom.HtmlDom()"
   ]
  },
  {
   "cell_type": "code",
   "execution_count": 96,
   "metadata": {},
   "outputs": [],
   "source": [
    "r = session.get('http://localhost:8000/admin')"
   ]
  },
  {
   "cell_type": "code",
   "execution_count": 103,
   "metadata": {},
   "outputs": [
    {
     "data": {
      "text/plain": [
       "{'/admin/'}"
      ]
     },
     "execution_count": 103,
     "metadata": {},
     "output_type": "execute_result"
    }
   ],
   "source": [
    "r.html.links"
   ]
  },
  {
   "cell_type": "code",
   "execution_count": 104,
   "metadata": {},
   "outputs": [
    {
     "data": {
      "text/plain": [
       "{'http://localhost:8000/admin/'}"
      ]
     },
     "execution_count": 104,
     "metadata": {},
     "output_type": "execute_result"
    }
   ],
   "source": [
    " r.html.absolute_links"
   ]
  },
  {
   "cell_type": "code",
   "execution_count": 105,
   "metadata": {},
   "outputs": [],
   "source": [
    "about = url.html.find('#about', first=True)"
   ]
  },
  {
   "cell_type": "code",
   "execution_count": 106,
   "metadata": {},
   "outputs": [
    {
     "name": "stdout",
     "output_type": "stream",
     "text": [
      "http://localhost:8000/admin/login/?next=/admin/\n"
     ]
    }
   ],
   "source": [
    "print(r.url)"
   ]
  },
  {
   "cell_type": "code",
   "execution_count": 107,
   "metadata": {},
   "outputs": [
    {
     "data": {
      "text/plain": [
       "b'<!DOCTYPE html>\\n\\n<html lang=\"en-us\" >\\n<head>\\n<title>Log in | Django site admin</title>\\n<link rel=\"stylesheet\" type=\"text/css\" href=\"/static/admin/css/base.css\" />\\n<link rel=\"stylesheet\" type=\"text/css\" href=\"/static/admin/css/login.css\" />\\n\\n\\n\\n\\n\\n    <meta name=\"viewport\" content=\"user-scalable=no, width=device-width, initial-scale=1.0, maximum-scale=1.0\">\\n    <link rel=\"stylesheet\" type=\"text/css\" href=\"/static/admin/css/responsive.css\" />\\n    \\n\\n<meta name=\"robots\" content=\"NONE,NOARCHIVE\" />\\n</head>\\n\\n\\n<body class=\" login\"\\n  data-admin-utc-offset=\"0\">\\n\\n<!-- Container -->\\n<div id=\"container\">\\n\\n    \\n    <!-- Header -->\\n    <div id=\"header\">\\n        <div id=\"branding\">\\n        \\n<h1 id=\"site-name\"><a href=\"/admin/\">Django administration</a></h1>\\n\\n        </div>\\n        \\n        \\n    </div>\\n    <!-- END Header -->\\n    \\n    \\n\\n    \\n        \\n    \\n\\n    <!-- Content -->\\n    <div id=\"content\" class=\"colM\">\\n        \\n        \\n        \\n\\n\\n\\n\\n<div id=\"content-main\">\\n\\n\\n\\n<form action=\"/admin/login/?next=/admin/\" method=\"post\" id=\"login-form\"><input type=\\'hidden\\' name=\\'csrfmiddlewaretoken\\' value=\\'7MC944MWKOtc8M0Bhp6kCvRlnxYlUUr6SyKJaBlLliWgru264Yg9WqPTHALDhUbB\\' />\\n  <div class=\"form-row\">\\n    \\n    <label class=\"required\" for=\"id_username\">Username:</label> <input type=\"text\" name=\"username\" autofocus maxlength=\"254\" required id=\"id_username\" />\\n  </div>\\n  <div class=\"form-row\">\\n    \\n    <label class=\"required\" for=\"id_password\">Password:</label> <input type=\"password\" name=\"password\" required id=\"id_password\" />\\n    <input type=\"hidden\" name=\"next\" value=\"/admin/\" />\\n  </div>\\n  \\n  \\n  <div class=\"submit-row\">\\n    <label>&nbsp;</label><input type=\"submit\" value=\"Log in\" />\\n  </div>\\n</form>\\n\\n</div>\\n\\n        \\n        <br class=\"clear\" />\\n    </div>\\n    <!-- END Content -->\\n\\n    <div id=\"footer\"></div>\\n</div>\\n<!-- END Container -->\\n\\n</body>\\n</html>\\n'"
      ]
     },
     "execution_count": 107,
     "metadata": {},
     "output_type": "execute_result"
    }
   ],
   "source": [
    "r.content"
   ]
  },
  {
   "cell_type": "code",
   "execution_count": null,
   "metadata": {},
   "outputs": [],
   "source": []
  },
  {
   "cell_type": "code",
   "execution_count": null,
   "metadata": {},
   "outputs": [],
   "source": []
  },
  {
   "cell_type": "code",
   "execution_count": null,
   "metadata": {},
   "outputs": [],
   "source": []
  },
  {
   "cell_type": "code",
   "execution_count": null,
   "metadata": {},
   "outputs": [],
   "source": []
  },
  {
   "cell_type": "code",
   "execution_count": null,
   "metadata": {},
   "outputs": [],
   "source": []
  }
 ],
 "metadata": {
  "kernelspec": {
   "display_name": "Python 3",
   "language": "python",
   "name": "python3"
  },
  "language_info": {
   "codemirror_mode": {
    "name": "ipython",
    "version": 3
   },
   "file_extension": ".py",
   "mimetype": "text/x-python",
   "name": "python",
   "nbconvert_exporter": "python",
   "pygments_lexer": "ipython3",
   "version": "3.6.5"
  }
 },
 "nbformat": 4,
 "nbformat_minor": 2
}
