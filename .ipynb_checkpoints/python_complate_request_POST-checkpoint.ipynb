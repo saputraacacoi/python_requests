{
 "cells": [
  {
   "cell_type": "code",
   "execution_count": 312,
   "metadata": {},
   "outputs": [],
   "source": [
    "from requests_html import HTMLSession\n",
    "import requests\n",
    "\n",
    "from htmldom import htmldom\n",
    "dom = htmldom.HtmlDom()"
   ]
  },
  {
   "cell_type": "code",
   "execution_count": 313,
   "metadata": {},
   "outputs": [],
   "source": [
    "session = HTMLSession()\n",
    "r = session.get('http://localhost:8000/admin')"
   ]
  },
  {
   "cell_type": "code",
   "execution_count": 314,
   "metadata": {},
   "outputs": [],
   "source": [
    "inputz = r.html.find('input')\n",
    "prop_key = 'name'\n",
    "prop_value = 'csrfmiddlewaretoken'\n",
    "\n",
    "\n",
    "def get_attr(inputz, prop_key, prop_value):\n",
    "    out = {}\n",
    "    for inz in inputz:\n",
    "        if prop_key in inz.attrs:\n",
    "            print(inz.attrs)\n",
    "            if inz.attrs[prop_key] == prop_value:\n",
    "                out = inz.attrs\n",
    "                \n",
    "    return out\n",
    "\n",
    "attr = get_attr(inputz, prop_key, prop_value)\n",
    "val = attr['value']"
   ]
  },
  {
   "cell_type": "code",
   "execution_count": 315,
   "metadata": {},
   "outputs": [],
   "source": [
    "val"
   ]
  },
  {
   "cell_type": "code",
   "execution_count": 316,
   "metadata": {},
   "outputs": [],
   "source": [
    "# session = HTMLSession()\n",
    "\n",
    "# form = {\n",
    "#     'csrfmiddlewaretoken': attr['value'], \n",
    "#     'username': 'saputra', \n",
    "#     'password':'saputra123'\n",
    "# }\n",
    "# rp = session.post('http://localhost:8000/admin/?next=/admin/', data=form)"
   ]
  },
  {
   "cell_type": "code",
   "execution_count": 317,
   "metadata": {},
   "outputs": [],
   "source": [
    "import sys\n",
    "import requests\n",
    "\n",
    "URL = 'http://localhost:8000/admin/'\n",
    "\n",
    "client = requests.session()\n",
    "\n",
    "# Retrieve the CSRF token first\n",
    "client.get(URL)  # sets cookie\n",
    "if 'csrftoken' in client.cookies:\n",
    "    # Django 1.6 and up\n",
    "    csrftoken = client.cookies['csrftoken']\n",
    "else:\n",
    "    # older versions\n",
    "    csrftoken = client.cookies['csrf']\n",
    "\n",
    "login_data = dict(\n",
    "    username='saputra', \n",
    "    password='saputra123', \n",
    "    csrfmiddlewaretoken=csrftoken, \n",
    "    next='/')\n",
    "r = client.post(URL, data=login_data, headers=dict(Referer=URL))"
   ]
  },
  {
   "cell_type": "code",
   "execution_count": 318,
   "metadata": {},
   "outputs": [
    {
     "data": {
      "text/plain": [
       "<Response [200]>"
      ]
     },
     "execution_count": 318,
     "metadata": {},
     "output_type": "execute_result"
    }
   ],
   "source": [
    "r"
   ]
  },
  {
   "cell_type": "code",
   "execution_count": null,
   "metadata": {},
   "outputs": [],
   "source": []
  },
  {
   "cell_type": "code",
   "execution_count": null,
   "metadata": {},
   "outputs": [],
   "source": []
  },
  {
   "cell_type": "code",
   "execution_count": null,
   "metadata": {},
   "outputs": [],
   "source": []
  },
  {
   "cell_type": "code",
   "execution_count": null,
   "metadata": {},
   "outputs": [],
   "source": []
  }
 ],
 "metadata": {
  "kernelspec": {
   "display_name": "Python 3",
   "language": "python",
   "name": "python3"
  },
  "language_info": {
   "codemirror_mode": {
    "name": "ipython",
    "version": 3
   },
   "file_extension": ".py",
   "mimetype": "text/x-python",
   "name": "python",
   "nbconvert_exporter": "python",
   "pygments_lexer": "ipython3",
   "version": "3.6.5"
  }
 },
 "nbformat": 4,
 "nbformat_minor": 2
}
