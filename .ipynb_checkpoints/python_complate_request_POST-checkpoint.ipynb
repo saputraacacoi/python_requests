{
 "cells": [
  {
   "cell_type": "code",
   "execution_count": 76,
   "metadata": {},
   "outputs": [],
   "source": [
    "from requests_html import HTMLSession\n",
    "import requests\n",
    "\n",
    "from htmldom import htmldom\n",
    "dom = htmldom.HtmlDom()"
   ]
  },
  {
   "cell_type": "code",
   "execution_count": 77,
   "metadata": {},
   "outputs": [],
   "source": [
    "session = HTMLSession()\n",
    "r = session.get('http://localhost:8000/admin')"
   ]
  },
  {
   "cell_type": "code",
   "execution_count": 78,
   "metadata": {},
   "outputs": [],
   "source": [
    "inputz = r.html.find('input')\n",
    "prop_key = 'name'\n",
    "prop_value = 'csrfmiddlewaretoken'\n",
    "\n",
    "\n",
    "def get_attr(inputz, prop_key, prop_value):\n",
    "    out = {}\n",
    "    for inz in inputz:\n",
    "        if prop_key in inz.attrs:\n",
    "            if inz.attrs[prop_key] == prop_value:\n",
    "                out = inz.attrs\n",
    "                \n",
    "    return out\n",
    "\n",
    "attr = get_attr(inputz, prop_key, prop_value)\n",
    "val = attr['value']"
   ]
  },
  {
   "cell_type": "code",
   "execution_count": 79,
   "metadata": {},
   "outputs": [
    {
     "name": "stdout",
     "output_type": "stream",
     "text": [
      "3nXeB3MHyD90Y2h6jSpw6KZUgfww9YhZv7M0VvVS1ZuplswaSSfwFZamKbRrq6xz\n"
     ]
    }
   ],
   "source": [
    "import requests\n",
    "client = requests.session()\n",
    "\n",
    "# Retrieve the CSRF token first\n",
    "URL = 'http://localhost:8000/admin/'\n",
    "client.get(URL) # sets cookie\n",
    "csrftoken = client.cookies['csrftoken']\n",
    "print (csrftoken) #Check if it's getting printed. Sometimes key name could be 'csrf' only\n",
    "\n",
    "form = {\n",
    "    \n",
    "    'csrfmiddlewaretoken': csrftoken, \n",
    "    'username': 'saputra', \n",
    "    'password':'saputra123'\n",
    "}\n",
    "\n",
    "URLPOST = 'http://localhost:8000/admin/?next=/admin/'\n",
    "r = client.post(URLPOST, data=form, headers=dict(Referer=URL))"
   ]
  },
  {
   "cell_type": "code",
   "execution_count": 80,
   "metadata": {},
   "outputs": [
    {
     "data": {
      "text/plain": [
       "<Response [200]>"
      ]
     },
     "execution_count": 80,
     "metadata": {},
     "output_type": "execute_result"
    }
   ],
   "source": [
    "r"
   ]
  },
  {
   "cell_type": "code",
   "execution_count": null,
   "metadata": {},
   "outputs": [],
   "source": []
  },
  {
   "cell_type": "code",
   "execution_count": null,
   "metadata": {},
   "outputs": [],
   "source": []
  },
  {
   "cell_type": "code",
   "execution_count": null,
   "metadata": {},
   "outputs": [],
   "source": []
  },
  {
   "cell_type": "code",
   "execution_count": null,
   "metadata": {},
   "outputs": [],
   "source": []
  },
  {
   "cell_type": "code",
   "execution_count": null,
   "metadata": {},
   "outputs": [],
   "source": []
  },
  {
   "cell_type": "code",
   "execution_count": null,
   "metadata": {},
   "outputs": [],
   "source": []
  }
 ],
 "metadata": {
  "kernelspec": {
   "display_name": "Python 3",
   "language": "python",
   "name": "python3"
  },
  "language_info": {
   "codemirror_mode": {
    "name": "ipython",
    "version": 3
   },
   "file_extension": ".py",
   "mimetype": "text/x-python",
   "name": "python",
   "nbconvert_exporter": "python",
   "pygments_lexer": "ipython3",
   "version": "3.6.5"
  }
 },
 "nbformat": 4,
 "nbformat_minor": 2
}
