{
 "cells": [
  {
   "cell_type": "code",
   "execution_count": 89,
   "metadata": {},
   "outputs": [],
   "source": [
    "from requests_html import HTMLSession\n",
    "import requests\n",
    "\n",
    "from bs4 import BeautifulSoup\n",
    "\n",
    "from htmldom import htmldom\n",
    "dom = htmldom.HtmlDom()"
   ]
  },
  {
   "cell_type": "code",
   "execution_count": 90,
   "metadata": {},
   "outputs": [],
   "source": [
    "s = requests.session()                                                         \n",
    "response = s.get('http://localhost:8000/admin/')  "
   ]
  },
  {
   "cell_type": "code",
   "execution_count": 91,
   "metadata": {},
   "outputs": [],
   "source": [
    "inputz = soup.find_all('input')\n",
    "prop_key = 'name'\n",
    "prop_value = 'csrfmiddlewaretoken'\n",
    "\n",
    "def get_attr(inputz, prop_key, prop_value):\n",
    "    out = {}\n",
    "    for inz in inputz:\n",
    "        if prop_key in inz.attrs:\n",
    "            if inz.attrs[prop_key] == prop_value:\n",
    "                out = inz.attrs\n",
    "                \n",
    "    return out                                                           \n",
    "                                                                               \n",
    "attr = get_attr(inputz, prop_key, prop_value)"
   ]
  },
  {
   "cell_type": "code",
   "execution_count": 98,
   "metadata": {},
   "outputs": [
    {
     "data": {
      "text/plain": [
       "'Zcu2O33IvMDLdnQQnHw0leBWAsQRFAjn5GZQRnfZaQlguAVyW0VaoxAnzb2HWM3s'"
      ]
     },
     "execution_count": 98,
     "metadata": {},
     "output_type": "execute_result"
    }
   ],
   "source": [
    "val"
   ]
  },
  {
   "cell_type": "code",
   "execution_count": 101,
   "metadata": {},
   "outputs": [],
   "source": [
    "soup = BeautifulSoup(response.text,'lxml')                                                                                                           \n",
    "# now post to that login page with some valid credentials and the token\n",
    "csrftoken = s.cookies['csrftoken']\n",
    "auth = {                \n",
    "    'csrfmiddlewaretoken': csrftoken, \n",
    "    'username': 'saputra',                                                       \n",
    "    'password': 'saputra123'                                                 \n",
    "}                                                                              \n",
    "s.post('http://localhost:8000/admin/login/?next=/admin/', data=auth)                             \n",
    "                                                                               \n",
    "# now we should be authenticated, try visiting a protected page                \n",
    "response = s.get('http://localhost:8000/admin/')"
   ]
  },
  {
   "cell_type": "code",
   "execution_count": 102,
   "metadata": {},
   "outputs": [
    {
     "data": {
      "text/plain": [
       "'<!DOCTYPE html>\\n\\n<html lang=\"en-us\" >\\n<head>\\n<title>Site administration | Django site admin</title>\\n<link rel=\"stylesheet\" type=\"text/css\" href=\"/static/admin/css/base.css\" />\\n<link rel=\"stylesheet\" type=\"text/css\" href=\"/static/admin/css/dashboard.css\" />\\n\\n\\n\\n    <meta name=\"viewport\" content=\"user-scalable=no, width=device-width, initial-scale=1.0, maximum-scale=1.0\">\\n    <link rel=\"stylesheet\" type=\"text/css\" href=\"/static/admin/css/responsive.css\" />\\n    \\n\\n<meta name=\"robots\" content=\"NONE,NOARCHIVE\" />\\n</head>\\n\\n\\n<body class=\" dashboard\"\\n  data-admin-utc-offset=\"0\">\\n\\n<!-- Container -->\\n<div id=\"container\">\\n\\n    \\n    <!-- Header -->\\n    <div id=\"header\">\\n        <div id=\"branding\">\\n        \\n<h1 id=\"site-name\"><a href=\"/admin/\">Django administration</a></h1>\\n\\n        </div>\\n        \\n        \\n        <div id=\"user-tools\">\\n            \\n                Welcome,\\n                <strong>saputra</strong>.\\n            \\n            \\n                \\n                    <a href=\"/\">View site</a> /\\n                \\n                \\n                    \\n                    \\n                \\n                \\n                <a href=\"/admin/password_change/\">Change password</a> /\\n                \\n                <a href=\"/admin/logout/\">Log out</a>\\n            \\n        </div>\\n        \\n        \\n        \\n    </div>\\n    <!-- END Header -->\\n    \\n    \\n\\n    \\n        \\n    \\n\\n    <!-- Content -->\\n    <div id=\"content\" class=\"colMS\">\\n        \\n        <h1>Site administration</h1>\\n        \\n<div id=\"content-main\">\\n\\n\\n    \\n        <div class=\"app-auth module\">\\n        <table>\\n        <caption>\\n            <a href=\"/admin/auth/\" class=\"section\" title=\"Models in the Authentication and Authorization application\">Authentication and Authorization</a>\\n        </caption>\\n        \\n            <tr class=\"model-group\">\\n            \\n                <th scope=\"row\"><a href=\"/admin/auth/group/\">Groups</a></th>\\n            \\n\\n            \\n                <td><a href=\"/admin/auth/group/add/\" class=\"addlink\">Add</a></td>\\n            \\n\\n            \\n                <td><a href=\"/admin/auth/group/\" class=\"changelink\">Change</a></td>\\n            \\n            </tr>\\n        \\n            <tr class=\"model-user\">\\n            \\n                <th scope=\"row\"><a href=\"/admin/auth/user/\">Users</a></th>\\n            \\n\\n            \\n                <td><a href=\"/admin/auth/user/add/\" class=\"addlink\">Add</a></td>\\n            \\n\\n            \\n                <td><a href=\"/admin/auth/user/\" class=\"changelink\">Change</a></td>\\n            \\n            </tr>\\n        \\n        </table>\\n        </div>\\n    \\n        <div class=\"app-frontend module\">\\n        <table>\\n        <caption>\\n            <a href=\"/admin/frontend/\" class=\"section\" title=\"Models in the Frontend application\">Frontend</a>\\n        </caption>\\n        \\n            <tr class=\"model-module\">\\n            \\n                <th scope=\"row\"><a href=\"/admin/frontend/module/\">Modules</a></th>\\n            \\n\\n            \\n                <td>&nbsp;</td>\\n            \\n\\n            \\n                <td><a href=\"/admin/frontend/module/\" class=\"changelink\">Change</a></td>\\n            \\n            </tr>\\n        \\n        </table>\\n        </div>\\n    \\n        <div class=\"app-orm module\">\\n        <table>\\n        <caption>\\n            <a href=\"/admin/orm/\" class=\"section\" title=\"Models in the Orm application\">Orm</a>\\n        </caption>\\n        \\n            <tr class=\"model-mahasiswa\">\\n            \\n                <th scope=\"row\"><a href=\"/admin/orm/mahasiswa/\">Mahasiswas</a></th>\\n            \\n\\n            \\n                <td><a href=\"/admin/orm/mahasiswa/add/\" class=\"addlink\">Add</a></td>\\n            \\n\\n            \\n                <td><a href=\"/admin/orm/mahasiswa/\" class=\"changelink\">Change</a></td>\\n            \\n            </tr>\\n        \\n            <tr class=\"model-mataperkuliahan\">\\n            \\n                <th scope=\"row\"><a href=\"/admin/orm/mataperkuliahan/\">Mata perkuliahans</a></th>\\n            \\n\\n            \\n                <td><a href=\"/admin/orm/mataperkuliahan/add/\" class=\"addlink\">Add</a></td>\\n            \\n\\n            \\n                <td><a href=\"/admin/orm/mataperkuliahan/\" class=\"changelink\">Change</a></td>\\n            \\n            </tr>\\n        \\n        </table>\\n        </div>\\n    \\n\\n</div>\\n\\n        \\n<div id=\"content-related\">\\n    <div class=\"module\" id=\"recent-actions-module\">\\n        <h2>Recent actions</h2>\\n        <h3>My actions</h3>\\n            \\n            \\n            \\n            <ul class=\"actionlist\">\\n            \\n            <li class=\"addlink\">\\n                \\n                    <a href=\"/admin/orm/mataperkuliahan/5/change/\">Kecakapan Antar Personal</a>\\n                \\n                <br/>\\n                \\n                    <span class=\"mini quiet\">Mata perkuliahan</span>\\n                \\n            </li>\\n            \\n            <li class=\"addlink\">\\n                \\n                    <a href=\"/admin/orm/mataperkuliahan/4/change/\">Analisa Desain &amp; Perangkat lunak</a>\\n                \\n                <br/>\\n                \\n                    <span class=\"mini quiet\">Mata perkuliahan</span>\\n                \\n            </li>\\n            \\n            <li class=\"addlink\">\\n                \\n                    <a href=\"/admin/orm/mataperkuliahan/3/change/\">Pemrograman Web</a>\\n                \\n                <br/>\\n                \\n                    <span class=\"mini quiet\">Mata perkuliahan</span>\\n                \\n            </li>\\n            \\n            <li class=\"addlink\">\\n                \\n                    <a href=\"/admin/orm/mataperkuliahan/2/change/\">Aplikasi Berbasis Dekstop</a>\\n                \\n                <br/>\\n                \\n                    <span class=\"mini quiet\">Mata perkuliahan</span>\\n                \\n            </li>\\n            \\n            <li class=\"addlink\">\\n                \\n                    <a href=\"/admin/orm/mahasiswa/2/change/\">1710530223</a>\\n                \\n                <br/>\\n                \\n                    <span class=\"mini quiet\">Mahasiswa</span>\\n                \\n            </li>\\n            \\n            <li class=\"addlink\">\\n                \\n                    <a href=\"/admin/orm/mahasiswa/1/change/\">1710530222</a>\\n                \\n                <br/>\\n                \\n                    <span class=\"mini quiet\">Mahasiswa</span>\\n                \\n            </li>\\n            \\n            <li class=\"changelink\">\\n                \\n                    <a href=\"/admin/orm/mahasiswa/3/change/\">1710530222</a>\\n                \\n                <br/>\\n                \\n                    <span class=\"mini quiet\">Mahasiswa</span>\\n                \\n            </li>\\n            \\n            <li class=\"changelink\">\\n                \\n                    <a href=\"/admin/orm/mahasiswa/2/change/\">1710530223</a>\\n                \\n                <br/>\\n                \\n                    <span class=\"mini quiet\">Mahasiswa</span>\\n                \\n            </li>\\n            \\n            <li class=\"changelink\">\\n                \\n                    <a href=\"/admin/orm/mahasiswa/2/change/\">1710530223</a>\\n                \\n                <br/>\\n                \\n                    <span class=\"mini quiet\">Mahasiswa</span>\\n                \\n            </li>\\n            \\n            <li class=\"changelink\">\\n                \\n                    <a href=\"/admin/orm/mahasiswa/3/change/\">1710530222</a>\\n                \\n                <br/>\\n                \\n                    <span class=\"mini quiet\">Mahasiswa</span>\\n                \\n            </li>\\n            \\n            </ul>\\n            \\n    </div>\\n</div>\\n\\n        <br class=\"clear\" />\\n    </div>\\n    <!-- END Content -->\\n\\n    <div id=\"footer\"></div>\\n</div>\\n<!-- END Container -->\\n\\n</body>\\n</html>\\n'"
      ]
     },
     "execution_count": 102,
     "metadata": {},
     "output_type": "execute_result"
    }
   ],
   "source": [
    "response.text"
   ]
  },
  {
   "cell_type": "code",
   "execution_count": null,
   "metadata": {},
   "outputs": [],
   "source": []
  },
  {
   "cell_type": "code",
   "execution_count": null,
   "metadata": {},
   "outputs": [],
   "source": []
  },
  {
   "cell_type": "code",
   "execution_count": null,
   "metadata": {},
   "outputs": [],
   "source": []
  },
  {
   "cell_type": "code",
   "execution_count": null,
   "metadata": {},
   "outputs": [],
   "source": []
  },
  {
   "cell_type": "code",
   "execution_count": null,
   "metadata": {},
   "outputs": [],
   "source": []
  },
  {
   "cell_type": "code",
   "execution_count": null,
   "metadata": {},
   "outputs": [],
   "source": []
  },
  {
   "cell_type": "raw",
   "metadata": {},
   "source": []
  },
  {
   "cell_type": "code",
   "execution_count": null,
   "metadata": {},
   "outputs": [],
   "source": []
  },
  {
   "cell_type": "code",
   "execution_count": null,
   "metadata": {},
   "outputs": [],
   "source": []
  },
  {
   "cell_type": "code",
   "execution_count": null,
   "metadata": {},
   "outputs": [],
   "source": []
  }
 ],
 "metadata": {
  "kernelspec": {
   "display_name": "Python 3",
   "language": "python",
   "name": "python3"
  },
  "language_info": {
   "codemirror_mode": {
    "name": "ipython",
    "version": 3
   },
   "file_extension": ".py",
   "mimetype": "text/x-python",
   "name": "python",
   "nbconvert_exporter": "python",
   "pygments_lexer": "ipython3",
   "version": "3.6.5"
  }
 },
 "nbformat": 4,
 "nbformat_minor": 2
}
