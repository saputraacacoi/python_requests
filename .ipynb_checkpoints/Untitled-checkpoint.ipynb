{
 "cells": [
  {
   "cell_type": "code",
   "execution_count": 1,
   "metadata": {},
   "outputs": [],
   "source": [
    "from requests_html import HTMLSession\n",
    "import requests\n",
    "\n",
    "from htmldom import htmldom\n",
    "dom = htmldom.HtmlDom()"
   ]
  },
  {
   "cell_type": "code",
   "execution_count": 154,
   "metadata": {},
   "outputs": [],
   "source": [
    "session = HTMLSession()\n",
    "r = session.get('http://localhost:8000/admin')"
   ]
  },
  {
   "cell_type": "code",
   "execution_count": 155,
   "metadata": {},
   "outputs": [],
   "source": [
    "url = r.html.url"
   ]
  },
  {
   "cell_type": "code",
   "execution_count": 153,
   "metadata": {},
   "outputs": [
    {
     "data": {
      "text/plain": [
       "'<!DOCTYPE html>\\n\\n<html lang=\"en-us\" >\\n<head>\\n<title>Log in | Django site admin</title>\\n<link rel=\"stylesheet\" type=\"text/css\" href=\"/static/admin/css/base.css\" />\\n<link rel=\"stylesheet\" type=\"text/css\" href=\"/static/admin/css/login.css\" />\\n\\n\\n\\n\\n\\n    <meta name=\"viewport\" content=\"user-scalable=no, width=device-width, initial-scale=1.0, maximum-scale=1.0\">\\n    <link rel=\"stylesheet\" type=\"text/css\" href=\"/static/admin/css/responsive.css\" />\\n    \\n\\n<meta name=\"robots\" content=\"NONE,NOARCHIVE\" />\\n</head>\\n\\n\\n<body class=\" login\"\\n  data-admin-utc-offset=\"0\">\\n\\n<!-- Container -->\\n<div id=\"container\">\\n\\n    \\n    <!-- Header -->\\n    <div id=\"header\">\\n        <div id=\"branding\">\\n        \\n<h1 id=\"site-name\"><a href=\"/admin/\">Django administration</a></h1>\\n\\n        </div>\\n        \\n        \\n    </div>\\n    <!-- END Header -->\\n    \\n    \\n\\n    \\n        \\n    \\n\\n    <!-- Content -->\\n    <div id=\"content\" class=\"colM\">\\n        \\n        \\n        \\n\\n\\n\\n\\n<div id=\"content-main\">\\n\\n\\n\\n<form action=\"/admin/login/?next=/admin/\" method=\"post\" id=\"login-form\"><input type=\\'hidden\\' name=\\'csrfmiddlewaretoken\\' value=\\'IqYeDecZPIzNy9i3vWA6Jr0t6Oue7HfzKIMdc2lVysr5uupdb4ws931eelMY1Wv2\\' />\\n  <div class=\"form-row\">\\n    \\n    <label class=\"required\" for=\"id_username\">Username:</label> <input type=\"text\" name=\"username\" autofocus maxlength=\"254\" required id=\"id_username\" />\\n  </div>\\n  <div class=\"form-row\">\\n    \\n    <label class=\"required\" for=\"id_password\">Password:</label> <input type=\"password\" name=\"password\" required id=\"id_password\" />\\n    <input type=\"hidden\" name=\"next\" value=\"/admin/\" />\\n  </div>\\n  \\n  \\n  <div class=\"submit-row\">\\n    <label>&nbsp;</label><input type=\"submit\" value=\"Log in\" />\\n  </div>\\n</form>\\n\\n</div>\\n\\n        \\n        <br class=\"clear\" />\\n    </div>\\n    <!-- END Content -->\\n\\n    <div id=\"footer\"></div>\\n</div>\\n<!-- END Container -->\\n\\n</body>\\n</html>\\n'"
      ]
     },
     "execution_count": 153,
     "metadata": {},
     "output_type": "execute_result"
    }
   ],
   "source": [
    "r = session.get(url)\n",
    "r.text"
   ]
  },
  {
   "cell_type": "code",
   "execution_count": 169,
   "metadata": {},
   "outputs": [
    {
     "name": "stdout",
     "output_type": "stream",
     "text": [
      "[<input name=\"csrfmiddlewaretoken\" type=\"hidden\" value=\"t4DYYiQBBupZlwftbt34quSqixZIuclswpk4PpZNf27dHUlWAbtxefuFxjRkY6pE\"/>, <input autofocus=\"\" id=\"id_username\" maxlength=\"254\" name=\"username\" required=\"\" type=\"text\"/>, <input id=\"id_password\" name=\"password\" required=\"\" type=\"password\"/>, <input name=\"next\" type=\"hidden\" value=\"/admin/\"/>, <input type=\"submit\" value=\"Log in\"/>]\n"
     ]
    }
   ],
   "source": [
    "from bs4 import BeautifulSoup\n",
    "soup = BeautifulSoup(r.text, 'html.parser')\n",
    "\n",
    "print(soup.form('input'))"
   ]
  },
  {
   "cell_type": "code",
   "execution_count": 172,
   "metadata": {},
   "outputs": [
    {
     "data": {
      "text/plain": [
       "'<input type=\"hidden\" name=\"csrfmiddlewaretoken\" value=\"ueYiJYmJHlIBjejAxDEsDyvLv7bXbKl6zrauYEXlujccfHmXkDdWJqeNrc41EAH1\">\\n</input><input type=\"hidden\" name=\"next\" value=\"/admin/\">\\n</input><input type=\"hidden\" name=\"next\" value=\"/admin/\">\\n</input><input type=\"submit\" value=\"Log in\">\\n</input>'"
      ]
     },
     "execution_count": 172,
     "metadata": {},
     "output_type": "execute_result"
    }
   ],
   "source": [
    "b.html()"
   ]
  },
  {
   "cell_type": "code",
   "execution_count": 173,
   "metadata": {},
   "outputs": [
    {
     "name": "stdout",
     "output_type": "stream",
     "text": [
      "[<html lang=\"en-us\">\n",
      "<head>\n",
      "<title>Log in | Django site admin</title>\n",
      "<link href=\"/static/admin/css/base.css\" rel=\"stylesheet\" type=\"text/css\"/>\n",
      "<link href=\"/static/admin/css/login.css\" rel=\"stylesheet\" type=\"text/css\"/>\n",
      "<meta content=\"user-scalable=no, width=device-width, initial-scale=1.0, maximum-scale=1.0\" name=\"viewport\"/>\n",
      "<link href=\"/static/admin/css/responsive.css\" rel=\"stylesheet\" type=\"text/css\"/>\n",
      "<meta content=\"NONE,NOARCHIVE\" name=\"robots\">\n",
      "</meta></head>\n",
      "<body class=\" login\" data-admin-utc-offset=\"0\">\n",
      "<!-- Container -->\n",
      "<div id=\"container\">\n",
      "<!-- Header -->\n",
      "<div id=\"header\">\n",
      "<div id=\"branding\">\n",
      "<h1 id=\"site-name\"><a href=\"/admin/\">Django administration</a></h1>\n",
      "</div>\n",
      "</div>\n",
      "<!-- END Header -->\n",
      "<!-- Content -->\n",
      "<div class=\"colM\" id=\"content\">\n",
      "<div id=\"content-main\">\n",
      "<form action=\"/admin/login/?next=/admin/\" id=\"login-form\" method=\"post\"><input name=\"csrfmiddlewaretoken\" type=\"hidden\" value=\"t4DYYiQBBupZlwftbt34quSqixZIuclswpk4PpZNf27dHUlWAbtxefuFxjRkY6pE\"/>\n",
      "<div class=\"form-row\">\n",
      "<label class=\"required\" for=\"id_username\">Username:</label> <input autofocus=\"\" id=\"id_username\" maxlength=\"254\" name=\"username\" required=\"\" type=\"text\"/>\n",
      "</div>\n",
      "<div class=\"form-row\">\n",
      "<label class=\"required\" for=\"id_password\">Password:</label> <input id=\"id_password\" name=\"password\" required=\"\" type=\"password\"/>\n",
      "<input name=\"next\" type=\"hidden\" value=\"/admin/\"/>\n",
      "</div>\n",
      "<div class=\"submit-row\">\n",
      "<label> </label><input type=\"submit\" value=\"Log in\"/>\n",
      "</div>\n",
      "</form>\n",
      "</div>\n",
      "<br class=\"clear\"/>\n",
      "</div>\n",
      "<!-- END Content -->\n",
      "<div id=\"footer\"></div>\n",
      "</div>\n",
      "<!-- END Container -->\n",
      "</body>\n",
      "</html>]\n"
     ]
    }
   ],
   "source": [
    "print(soup.find_all('html'))"
   ]
  },
  {
   "cell_type": "code",
   "execution_count": 174,
   "metadata": {},
   "outputs": [
    {
     "name": "stdout",
     "output_type": "stream",
     "text": [
      "[<input name=\"csrfmiddlewaretoken\" type=\"hidden\" value=\"t4DYYiQBBupZlwftbt34quSqixZIuclswpk4PpZNf27dHUlWAbtxefuFxjRkY6pE\"/>, <input autofocus=\"\" id=\"id_username\" maxlength=\"254\" name=\"username\" required=\"\" type=\"text\"/>, <input id=\"id_password\" name=\"password\" required=\"\" type=\"password\"/>, <input name=\"next\" type=\"hidden\" value=\"/admin/\"/>, <input type=\"submit\" value=\"Log in\"/>]\n"
     ]
    }
   ],
   "source": [
    "print(soup.find_all('input'))"
   ]
  },
  {
   "cell_type": "code",
   "execution_count": null,
   "metadata": {},
   "outputs": [],
   "source": []
  },
  {
   "cell_type": "code",
   "execution_count": null,
   "metadata": {},
   "outputs": [],
   "source": []
  },
  {
   "cell_type": "code",
   "execution_count": null,
   "metadata": {},
   "outputs": [],
   "source": []
  },
  {
   "cell_type": "code",
   "execution_count": null,
   "metadata": {},
   "outputs": [],
   "source": []
  },
  {
   "cell_type": "code",
   "execution_count": null,
   "metadata": {},
   "outputs": [],
   "source": []
  },
  {
   "cell_type": "code",
   "execution_count": null,
   "metadata": {},
   "outputs": [],
   "source": []
  },
  {
   "cell_type": "code",
   "execution_count": null,
   "metadata": {},
   "outputs": [],
   "source": []
  }
 ],
 "metadata": {
  "kernelspec": {
   "display_name": "Python 3",
   "language": "python",
   "name": "python3"
  },
  "language_info": {
   "codemirror_mode": {
    "name": "ipython",
    "version": 3
   },
   "file_extension": ".py",
   "mimetype": "text/x-python",
   "name": "python",
   "nbconvert_exporter": "python",
   "pygments_lexer": "ipython3",
   "version": "3.6.5"
  }
 },
 "nbformat": 4,
 "nbformat_minor": 2
}
